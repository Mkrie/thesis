{
 "cells": [
  {
   "cell_type": "markdown",
   "id": "0c858828",
   "metadata": {},
   "source": [
    "Метод **многоугловой дифференциальной спектроскопии** (MAX DOAS – Multi-Axis Differential Absorbtion Spectroscopy) использует измерения спектра рассеянного солнечного излучения в полосе поглощения исследуемого газа ($\\text{NO}_2$). Измерения спектров приходящего излучения выполняются из направлений с различными зенитными углами."
   ]
  },
  {
   "cell_type": "markdown",
   "id": "a684d501",
   "metadata": {},
   "source": [
    "Мы рассматриваем измерения при фиксированном азимуте относительно положения солнца. Также предполагается, что атмосфера сферически симметрична. С использованием так называемой **процедуры DOAS анализа** определяется наклонное содержание газа ($\\text{NO}_2$) $S(z)$ при каждом направлении визирования $z$."
   ]
  },
  {
   "cell_type": "markdown",
   "id": "eeb6f8c6",
   "metadata": {},
   "source": [
    "$$\\pmb\\xi = M \\pmb n,$$\n",
    "$$M: V \\rightarrow W; \\, \n",
    "M(\\pmb n_1 + \\pmb n_2) = M(\\pmb n_1) + M(\\pmb n_2), \\,\n",
    "M(c \\pmb n) = c M(\\pmb n),$$\n",
    "$$\\dim V = d_1, \\, \\dim W = d_2.$$"
   ]
  },
  {
   "cell_type": "markdown",
   "id": "9a468dc7",
   "metadata": {},
   "source": [
    "$$||\\pmb \\xi|| = \\max_{i=1, \\ldots, d_2} |\\xi_i|$$"
   ]
  },
  {
   "cell_type": "markdown",
   "id": "fec8fc07",
   "metadata": {},
   "source": [
    "Пусть линейный оператор задан матрицей $||m^p_k||^{d_2}_{d_1}$, \n",
    "строки которой обозначим $m_i, \\, i = \\overline{1, d_2}$. $\\pmb \\xi$ соотвествует\n",
    "$||\\xi^p||^{d_2}$, $\\pmb n$ соотвествует $||n^p||^{d_1}$.\n",
    "Тогда:"
   ]
  },
  {
   "cell_type": "markdown",
   "id": "58eafe1b",
   "metadata": {},
   "source": [
    "$$\\xi_i = (m_i^T, \\pmb n), \\quad i = \\overline{1, d_2}$$"
   ]
  },
  {
   "cell_type": "markdown",
   "id": "19f11f65",
   "metadata": {},
   "source": [
    "Рассмотрим задачу на минимакс"
   ]
  },
  {
   "cell_type": "markdown",
   "id": "8329e222",
   "metadata": {},
   "source": [
    "$$\\min_{\\pmb n}\\max_{i=\\overline{1, d_2}} |\\xi_i - (m_i^T, \\pmb n)|$$"
   ]
  },
  {
   "cell_type": "markdown",
   "id": "45617ada",
   "metadata": {},
   "source": [
    "$$|d| = \\min_{z} \\{ z \\, | \\, z \\geq d \\wedge z \\geq -d\\}$$"
   ]
  },
  {
   "cell_type": "markdown",
   "id": "5958e0f0",
   "metadata": {},
   "source": [
    "Соответственно:"
   ]
  },
  {
   "cell_type": "markdown",
   "id": "4633b42c",
   "metadata": {},
   "source": [
    "$$\\max_{i=\\overline{1, d_2}} |\\xi_i - (m_i^T, \\pmb n)| = \n",
    "\\min_{z} \\{z \\,| \\, z \\geq \\xi_i - (m_i^T, \\pmb n) \\wedge z \\geq -\\xi_i + (m_i^T, \\pmb n)\\}\n",
    ", \\quad i = \\overline{1, d_2}$$"
   ]
  },
  {
   "cell_type": "markdown",
   "id": "184d3a8d",
   "metadata": {},
   "source": [
    "Введём два вектора $s = (z, n_1, \\ldots, n_{d_1})$ и $t = (1, 0, \\ldots, 0)$. \n",
    "Их скалярное произведение$(s, t) = z$."
   ]
  },
  {
   "cell_type": "markdown",
   "id": "6b0ad124",
   "metadata": {},
   "source": [
    "Минимизация по $s$ при наложенных ограничениях даст решение искомой задачи:"
   ]
  },
  {
   "cell_type": "markdown",
   "id": "277587c8",
   "metadata": {},
   "source": [
    "$$\\min_s \\{(s, t) \\, | \\,  z \\geq \\xi_i - (m_i^T, \\pmb n) \\wedge z \\geq -\\xi_i + (m_i^T, \\pmb n)\\}\n",
    ", \\, i = \\overline{1, d_2} \\}\\, \\Longrightarrow \\, s$$ "
   ]
  },
  {
   "cell_type": "markdown",
   "id": "73f09248",
   "metadata": {},
   "source": [
    "$+$ наличие априорной информации(унимодальность профиля и неотрицательность концентраций)"
   ]
  },
  {
   "cell_type": "markdown",
   "id": "8a0876d2",
   "metadata": {},
   "source": [
    "$$\\exists k \\in {1, \\ldots, d_1}:\n",
    "\\begin{cases}\n",
    "n_1 \\leq n_2, \\\\\n",
    "\\ldots \\\\\n",
    "n_{k-1} \\leq n_{k}, \\\\\n",
    "n_{k} \\geq n_{k+1}, \\\\\n",
    "\\ldots \\\\\n",
    "n_{d_1 - 1} \\geq n_{d_1}.\n",
    "\\end{cases}\n",
    "\\qquad and \\qquad \\forall i \\;  (n_i \\geq 0).$$"
   ]
  },
  {
   "cell_type": "code",
   "execution_count": 1,
   "id": "63cf0f46",
   "metadata": {},
   "outputs": [],
   "source": [
    "import sys\n",
    "import csv\n",
    "import matplotlib.pyplot as plt\n",
    "import numpy as np\n",
    "from math import fabs, sqrt\n",
    "from pathlib import Path\n",
    "sys.path.insert(1, '../scripts')\n",
    "\n",
    "from profile_recovery import ProfileRec"
   ]
  },
  {
   "cell_type": "code",
   "execution_count": 2,
   "id": "abf15670",
   "metadata": {},
   "outputs": [],
   "source": [
    "dict_profile_time = {\n",
    "    (\"06\", \"42\"): \"PM004A\",\n",
    "    (\"07\", \"05\"): \"PM004D\",\n",
    "    (\"07\", \"37\"): \"PM005A\",\n",
    "    (\"08\", \"08\"): \"PM005D\",\n",
    "    (\"09\", \"42\"): \"PM006A\",\n",
    "    (\"10\", \"13\"): \"PM006D\",\n",
    "    (\"11\", \"01\"): \"PM007A\",\n",
    "    (\"11\", \"27\"): \"PM007D\",\n",
    "    (\"13\", \"06\"): \"PM008A\",\n",
    "    (\"13\", \"23\"): \"PM008D\",\n",
    "    (\"16\", \"54\"): \"PM010A\",\n",
    "    (\"17\", \"17\"): \"PM010D\",\n",
    "    (\"17\", \"46\"): \"PM011A\",\n",
    "    (\"18\", \"04\"): \"PM011D\",\n",
    "}"
   ]
  },
  {
   "cell_type": "code",
   "execution_count": 3,
   "id": "d9a0fe0b",
   "metadata": {},
   "outputs": [],
   "source": [
    "name_height = {\n",
    "    \"unimod_1.csv\": 0,\n",
    "    \"unimod_2.csv\": 300,\n",
    "    \"unimod_3.csv\": 800,\n",
    "    \"threemod_1.csv\": 100,\n",
    "    \"threemod_2.csv\": 600,\n",
    "}"
   ]
  },
  {
   "cell_type": "code",
   "execution_count": 4,
   "id": "f2a93b79",
   "metadata": {},
   "outputs": [],
   "source": [
    "def generate_bars(heights, p_x, p_y):\n",
    "    def integrate(list_h, list_n):\n",
    "        sum_n = 0\n",
    "        for i in range(len(list_h) - 1):\n",
    "            sum_n += 0.5 * (list_h[i] - list_h[i + 1]) * (list_n[i] + list_n[i + 1])\n",
    "        return sum_n / (list_h[0] - list_h[-1])\n",
    "\n",
    "    fin_h = []\n",
    "    fin_n = []\n",
    "    dict_index = {0.0: len(p_y)}\n",
    "    for h in heights:\n",
    "        for i, x in enumerate(p_x):\n",
    "            if h >= x:\n",
    "                dict_index[h] = i\n",
    "                break\n",
    "    keys = list(dict_index.keys())\n",
    "    for h in range(len(keys) - 1):\n",
    "        fin_h.append(keys[h])\n",
    "        fin_n.append(\n",
    "            integrate(\n",
    "                p_x[dict_index[keys[h + 1]] : dict_index[keys[h]]],\n",
    "                p_y[dict_index[keys[h + 1]] : dict_index[keys[h]]],\n",
    "            )\n",
    "        )\n",
    "    return fin_h, fin_n"
   ]
  },
  {
   "cell_type": "code",
   "execution_count": 5,
   "id": "47dd7ffd",
   "metadata": {
    "scrolled": false
   },
   "outputs": [
    {
     "data": {
      "text/plain": [
       "<Figure size 432x288 with 0 Axes>"
      ]
     },
     "metadata": {},
     "output_type": "display_data"
    }
   ],
   "source": [
    "def build(sigma: float, number_of_trials: int, profiles: str, dataset: str) -> None:                                                                               \n",
    "    path_to_profiles = Path(Path.cwd().parents[1], \"data\", profiles, \"csv\")                                                                                    \n",
    "    k: int = 1                                                                                                                                                     \n",
    "    for txt_path in sorted(list(path_to_profiles.glob(\"*.csv\"))):                                                                                                  \n",
    "        if txt_path.name == \"profile_06_42.csv\":                                                                                                                   \n",
    "            continue                                                                                                                                               \n",
    "        sp = plt.subplot(2, 2, k)                                                                                                                                  \n",
    "        prof_recovery = ProfileRec(txt_path.name, profiles, dataset)                                                                                               \n",
    "        rec = prof_recovery.linear_programming(sigma)                                                                                                              \n",
    "        rec_min_max = [[x, x] for x in rec[1]]                                                                                                                     \n",
    "        rec_avg = [0] * len(rec[1])                                                                                                                                \n",
    "        rec_list = []                                                                                                                                              \n",
    "        step = rec[0][1] - rec[0][0]                                                                                                                               \n",
    "        for _ in range(number_of_trials):                                                                                                                          \n",
    "            rec = prof_recovery.linear_programming(sigma)                                                                                                          \n",
    "            for i in range(len(rec[1])):                                                                                                                           \n",
    "                rec_avg[i] += rec[1][i]                                                                                                                            \n",
    "            rec_list.append(rec[1])                                                                                                                                \n",
    "        plt.errorbar(                                                                                                                                              \n",
    "            [x + 0.5 * step for x in rec[0]],                                                                                                                      \n",
    "            [r / number_of_trials for r in rec_avg],                                                                                                               \n",
    "            yerr=[np.std([x[i] * 0.5 for x in rec_list]) for i in range(len(rec[1]))],                                                                             \n",
    "            fmt=\"o\",                                                                                                                                               \n",
    "            ecolor=\"black\",                                                                                                                                        \n",
    "            elinewidth=2.5,                                                                                                                                        \n",
    "            capsize=4,                                                                                                                                             \n",
    "            color=\"black\",                                                                                                                                         \n",
    "            label=f\"average restored n={number_of_trials}\"                                                                                                         \n",
    "        )                                                                                                                                                          \n",
    "        list_discrepancy = list()                                                                                                                                  \n",
    "        step = rec[0][1] - rec[0][0]                                                                                                                               \n",
    "        plt.bar(                                                                                                                                                   \n",
    "            [h + 0.5 * step for h in rec[0]],                                                                                                                      \n",
    "            rec[1],                                                                                                                                                \n",
    "            width=step,                                                                                                                                            \n",
    "            linewidth=1,                                                                                                                                           \n",
    "            edgecolor=\"black\",                                                                                                                                     \n",
    "            alpha=0.5,                                                                                                                                             \n",
    "            color=\"red\",                                                                                                                                           \n",
    "            linestyle=\"-\",                                                                                                                                         \n",
    "            label=\"one restored profile\",                                                                                                                          \n",
    "        )                                                                                                                                                          \n",
    "        with open(txt_path, \"r\") as csv_file:                                                                                                                      \n",
    "            reader = csv.reader(csv_file)                                                                                                                          \n",
    "            tup_coords: tuple[tuple[str]] = tuple(reader)                                                                                                          \n",
    "            plt.minorticks_on()                                                                                                                                    \n",
    "            plt.grid(which=\"major\", color=\"k\", linewidth=1)                                                                                                        \n",
    "            plt.grid(which=\"minor\", color=\"k\", linestyle=\":\")                                                                                                      \n",
    "            plt.xlabel(\"h[m]\")                                                                                                                                     \n",
    "            plt.ylabel(r\"$n$ [$cm^{-3}$]\")                                                                                                                         \n",
    "            plt.xlim(0, 10**3)                                                                                                                                     \n",
    "            list_text = txt_path.name.replace(\".csv\", \"\").split(\"_\")                                                                                               \n",
    "            plt.title(                                                                                                                                             \n",
    "                f\"\"\"{dict_profile_time.get(tuple(list_text[1:]))}: {list_text[1]}:{list_text[2]} [szas=60, wavesNM=450, albedo=0.05]\"\"\"                            \n",
    "            )                                                                                                                                                      \n",
    "            original_x = tuple(float(x[0]) for x in tup_coords)                                                                                                    \n",
    "            original_y = tuple(float(x[1]) for x in tup_coords)                                                                                                    \n",
    "            list_discrepancy.append((0, fabs(rec[1][0] - original_y[-1])))                                                                                         \n",
    "            for res_i, res_h in enumerate(rec[0]):                                                                                                                 \n",
    "                for orig_i, orig_h in enumerate(original_x):                                                                                                       \n",
    "                    if res_h >= orig_h:                                                                                                                            \n",
    "                        list_discrepancy.append(                                                                                                                   \n",
    "                            (                                                                                                                                      \n",
    "                                rec[0][res_i],                                                                                                                     \n",
    "                                sqrt((rec[1][res_i] - original_y[orig_i]) ** 2),                                                                                   \n",
    "                            )                                                                                                                                      \n",
    "                        )                                                                                                                                          \n",
    "                        break                                                                                                                                      \n",
    "            data_bars = generate_bars(rec[0], original_x, original_y)                                                                                              \n",
    "            # step = rec[0][1] - rec[0][0]                                                                                                                         \n",
    "            plt.bar(                                                                                                                                               \n",
    "                [h + 0.5 * step for h in data_bars[0]],                                                                                                            \n",
    "                data_bars[1],                                                                                                                                      \n",
    "                width=step,                                                                                                                                        \n",
    "                linewidth=1,                                                                                                                                       \n",
    "                alpha=0.5,                                                                                                                                         \n",
    "                edgecolor=\"darkblue\",                                                                                                                              \n",
    "                color=\"turquoise\",                                                                                                                                 \n",
    "                linestyle=\"-\",                                                                                                                                     \n",
    "            )                                                                                                                                                      \n",
    "            plt.errorbar(                                                                                                                                          \n",
    "                original_x,                                                                                                                                        \n",
    "                original_y,                                                                                                                                        \n",
    "                linewidth=2,                                                                                                                                       \n",
    "                label=\"original\",                                                                                                                                  \n",
    "            )                                                                                                                                                      \n",
    "        plt.legend()                                                                                                                                               \n",
    "        k += 1                                                                                                                                                     \n",
    "        if k > 4:                                                                                                                                                  \n",
    "            k = 1                                                                                                                                                  \n",
    "            plt.figure()                                                                                                                                           \n",
    "        break\n",
    "    plt.figure()\n",
    "    plt.show()                                                                                                                                                     \n",
    "\n",
    "build(0.3, 10, \"profiles_1\", \"dataset_2_csv\")"
   ]
  },
  {
   "cell_type": "code",
   "execution_count": null,
   "id": "871a40bc",
   "metadata": {},
   "outputs": [],
   "source": []
  }
 ],
 "metadata": {
  "kernelspec": {
   "display_name": "Python 3 (ipykernel)",
   "language": "python",
   "name": "python3"
  },
  "language_info": {
   "codemirror_mode": {
    "name": "ipython",
    "version": 3
   },
   "file_extension": ".py",
   "mimetype": "text/x-python",
   "name": "python",
   "nbconvert_exporter": "python",
   "pygments_lexer": "ipython3",
   "version": "3.9.12"
  }
 },
 "nbformat": 4,
 "nbformat_minor": 5
}
