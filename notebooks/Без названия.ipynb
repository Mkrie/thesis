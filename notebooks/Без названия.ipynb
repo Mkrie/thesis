{
 "cells": [
  {
   "cell_type": "code",
   "execution_count": 1,
   "id": "6b3b3da1",
   "metadata": {},
   "outputs": [],
   "source": [
    "import numpy as np"
   ]
  },
  {
   "cell_type": "code",
   "execution_count": 7,
   "id": "b4eafbcd",
   "metadata": {},
   "outputs": [],
   "source": [
    "a = np.array([[2, 66],[6, 6]])\n",
    "b = np.array([[5, 78], [7, 9]])"
   ]
  },
  {
   "cell_type": "code",
   "execution_count": 8,
   "id": "8399f2b6",
   "metadata": {},
   "outputs": [
    {
     "name": "stdout",
     "output_type": "stream",
     "text": [
      "[[ 2 66]\n",
      " [ 6  6]]\n",
      "[[ 5 78]\n",
      " [ 7  9]]\n",
      "[[472 750]\n",
      " [ 72 522]]\n"
     ]
    }
   ],
   "source": [
    "print(a)\n",
    "print(b)\n",
    "print(a @ b)"
   ]
  }
 ],
 "metadata": {
  "kernelspec": {
   "display_name": "Python 3 (ipykernel)",
   "language": "python",
   "name": "python3"
  },
  "language_info": {
   "codemirror_mode": {
    "name": "ipython",
    "version": 3
   },
   "file_extension": ".py",
   "mimetype": "text/x-python",
   "name": "python",
   "nbconvert_exporter": "python",
   "pygments_lexer": "ipython3",
   "version": "3.9.12"
  }
 },
 "nbformat": 4,
 "nbformat_minor": 5
}
