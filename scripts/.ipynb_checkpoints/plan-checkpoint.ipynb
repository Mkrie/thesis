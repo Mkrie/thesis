{
 "cells": [
  {
   "cell_type": "markdown",
   "id": "0c858828",
   "metadata": {},
   "source": [
    "Метод **многоугловой дифференциальной спектроскопии** (MAX DOAS – Multi-Axis Differential Absorbtion Spectroscopy) использует измерения спектра рассеянного солнечного излучения в полосе поглощения исследуемого газа ($\\text{NO}_2$). Измерения спектров приходящего излучения выполняются из направлений с различными зенитными углами."
   ]
  },
  {
   "cell_type": "markdown",
   "id": "a684d501",
   "metadata": {},
   "source": [
    "Мы рассматриваем измерения при фиксированном азимуте относительно положения солнца. Также предполагается, что атмосфера сферически симметрична. С использованием так называемой **процедуры DOAS анализа** определяется наклонное содержание газа ($\\text{NO}_2$) $S(z)$ при каждом направлении визирования $z$."
   ]
  },
  {
   "cell_type": "code",
   "execution_count": null,
   "id": "9051656e",
   "metadata": {},
   "outputs": [],
   "source": []
  }
 ],
 "metadata": {
  "kernelspec": {
   "display_name": "Python 3 (ipykernel)",
   "language": "python",
   "name": "python3"
  },
  "language_info": {
   "codemirror_mode": {
    "name": "ipython",
    "version": 3
   },
   "file_extension": ".py",
   "mimetype": "text/x-python",
   "name": "python",
   "nbconvert_exporter": "python",
   "pygments_lexer": "ipython3",
   "version": "3.9.12"
  }
 },
 "nbformat": 4,
 "nbformat_minor": 5
}
